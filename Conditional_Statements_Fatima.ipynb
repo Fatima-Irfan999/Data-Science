{
  "metadata": {
    "kernelspec": {
      "name": "python",
      "display_name": "Python (Pyodide)",
      "language": "python"
    },
    "language_info": {
      "codemirror_mode": {
        "name": "python",
        "version": 3
      },
      "file_extension": ".py",
      "mimetype": "text/x-python",
      "name": "python",
      "nbconvert_exporter": "python",
      "pygments_lexer": "ipython3",
      "version": "3.8"
    },
    "colab": {
      "provenance": []
    }
  },
  "nbformat_minor": 4,
  "nbformat": 4,
  "cells": [
    {
      "cell_type": "markdown",
      "source": "1) A company decided to give bonus of 5% to employee if his/her year of service is more than 5 years.\nAsk user for their salary and year of service and print the net bonus amount.",
      "metadata": {
        "id": "jta62FJ_hPjC"
      }
    },
    {
      "cell_type": "code",
      "source": "salary = float(input(\"Enter your salary: \"))\nyears_of_service = int(input(\"Enter your years of service: \"))\n\nbonus_percentage = 5\n\nif years_of_service > 5:\n  bonus_amount = (salary * bonus_percentage) / 100\nelse:\n  bonus_amount = 0\nprint(\"Net Bonus Amount:\", bonus_amount)",
      "metadata": {
        "colab": {
          "base_uri": "https://localhost:8080/"
        },
        "id": "bejhZfg4hPjF",
        "outputId": "a2ffb567-4a16-4b18-b2da-fd39d50fa47b"
      },
      "outputs": [
        {
          "output_type": "stream",
          "name": "stdout",
          "text": [
            "Enter your salary: 25000\n",
            "Enter your years of service: 7\n",
            "Net Bonus Amount: 1250.0\n"
          ]
        }
      ],
      "execution_count": 1
    },
    {
      "cell_type": "markdown",
      "source": "\n2) Write a program to check whether a person is eligible for voting or not. (accept age from user) if age is greater than 17 eligible otherwise not eligible",
      "metadata": {
        "id": "0nJuUYk4hPjG"
      }
    },
    {
      "cell_type": "code",
      "source": "age = int(input(\"Enter your age: \"))\n\nif age > 17:\n  print(\"Congratulations! You're eligible for voting.\")\nelse:\n  print(\"Sorry! You're not eligible.\")",
      "metadata": {
        "colab": {
          "base_uri": "https://localhost:8080/"
        },
        "id": "DHmRX7N-hPjH",
        "outputId": "6408c84e-38fd-4746-a05b-152671566100"
      },
      "outputs": [
        {
          "output_type": "stream",
          "name": "stdout",
          "text": [
            "Enter your age: 18\n",
            "Congratulations! You're eligible for voting.\n"
          ]
        }
      ],
      "execution_count": 3
    },
    {
      "cell_type": "markdown",
      "source": "\n3) Write a program to check whether a number entered by user is even or odd.",
      "metadata": {
        "id": "ZYIsga8PhPjI"
      }
    },
    {
      "cell_type": "code",
      "source": "number = int(input(\"Enter a number: \"))\n\nif number % 2 == 0:\n  print(\"The number is even.\")\nelse: print(\"The number is odd.\")",
      "metadata": {
        "colab": {
          "base_uri": "https://localhost:8080/"
        },
        "id": "uTJljd1WhPjI",
        "outputId": "3abe6225-41f9-4ac4-e89f-8212435386aa"
      },
      "outputs": [
        {
          "output_type": "stream",
          "name": "stdout",
          "text": [
            "Enter a number: 4\n",
            "The number is even.\n"
          ]
        }
      ],
      "execution_count": 5
    },
    {
      "cell_type": "markdown",
      "source": "4) Write a program to check whether a number is divisible by 7 or not.\nShow Answer",
      "metadata": {
        "id": "OxjXM15PhPjJ"
      }
    },
    {
      "cell_type": "code",
      "source": "number = int(input(\"Enter a number: \"))\n\nif number % 7 == 0:\n  print(f\"{number} is divisible by 7.\")\nelse: print(f\"{number} is not divisible by 7.\")",
      "metadata": {
        "colab": {
          "base_uri": "https://localhost:8080/"
        },
        "id": "B4QshSwKhPjJ",
        "outputId": "5bd8f73c-06f8-4233-c5d3-d078fdfae0f1"
      },
      "outputs": [
        {
          "output_type": "stream",
          "name": "stdout",
          "text": [
            "Enter a number: 8\n",
            "8 is not divisible by 7.\n"
          ]
        }
      ],
      "execution_count": 6
    },
    {
      "cell_type": "markdown",
      "source": "5) Write a program to display\n\"Hello\" if a number entered by user is a multiple of five , otherwise print \"Bye\".",
      "metadata": {
        "id": "V4K1CO1RhPjK"
      }
    },
    {
      "cell_type": "code",
      "source": "number = int(input(\"Enter a number: \"))\n\nif number % 5 == 0:\n  print(\"Hello\")\nelse:\n  print(\"Bye\")",
      "metadata": {
        "colab": {
          "base_uri": "https://localhost:8080/"
        },
        "id": "MYLW5NlohPjK",
        "outputId": "09b32055-980b-4dcd-e3b3-ef189aaa4159"
      },
      "outputs": [
        {
          "output_type": "stream",
          "name": "stdout",
          "text": [
            "Enter a number: 18\n",
            "Bye\n"
          ]
        }
      ],
      "execution_count": 9
    },
    {
      "cell_type": "markdown",
      "source": "7) Write a program to display the last digit of a number.\n",
      "metadata": {
        "id": "S39wuK0HhPjL"
      }
    },
    {
      "cell_type": "code",
      "source": "number = int(input(\"Enter a number: \"))\n\nlast_digit = number % 10\n\nprint(f\"The last digit of a number {number} is {last_digit}\")",
      "metadata": {
        "colab": {
          "base_uri": "https://localhost:8080/"
        },
        "id": "dXwqpivJhPjM",
        "outputId": "788aa43b-fc68-4572-d48f-2993aec9ac22"
      },
      "outputs": [
        {
          "output_type": "stream",
          "name": "stdout",
          "text": [
            "Enter a number: 258\n",
            "The last digit of a number 258 is 8\n"
          ]
        }
      ],
      "execution_count": 11
    },
    {
      "cell_type": "markdown",
      "source": "9) Take values of length and breadth of a rectangle from user and print if it is square or rectangle.",
      "metadata": {
        "id": "ckUeicuphPjM"
      }
    },
    {
      "cell_type": "code",
      "source": "length = float(input(\"Enter the length: \"))\nbreadth = float(input(\"Enter the breadth: \"))\n\nif length == breadth:\n  print(\"It is a square.\")\nelse:\n  print(\"It is a rectangle.\")",
      "metadata": {
        "colab": {
          "base_uri": "https://localhost:8080/"
        },
        "id": "yCmHXNswhPjN",
        "outputId": "a22160c6-4570-4e9b-efc5-d2414900dd90"
      },
      "outputs": [
        {
          "output_type": "stream",
          "name": "stdout",
          "text": [
            "Enter the length: 1.5\n",
            "Enter the breadth: 2.4\n",
            "It is a rectangle.\n"
          ]
        }
      ],
      "execution_count": 12
    },
    {
      "cell_type": "markdown",
      "source": "10) Take two int values from user and print greatest among them.",
      "metadata": {
        "id": "wX7B7QxthPjN"
      }
    },
    {
      "cell_type": "code",
      "source": "num1 = int(input(\"Enter the first number: \"))\nnum2 = int(input(\"Enter the second number: \"))\n\nif num1 > num2:\n    print(\"The first number is the greatest.\")\nelif num2 > num1:\n    print(\"The second number is the greatest.\")\nelse:\n    print(\"Both numbers are equal.\")",
      "metadata": {
        "colab": {
          "base_uri": "https://localhost:8080/"
        },
        "id": "EAvKES0PhPjO",
        "outputId": "326f50ab-2430-4553-d8ff-9911f4065fd3"
      },
      "outputs": [
        {
          "output_type": "stream",
          "name": "stdout",
          "text": [
            "Enter the first number: 2\n",
            "Enter the second number: 1\n",
            "The first number is the greatest.\n"
          ]
        }
      ],
      "execution_count": 15
    },
    {
      "cell_type": "markdown",
      "source": "11) A shop will give discount of 10% if the cost of purchased quantity is more than 1000.\nAsk user for quantity\nSuppose, one unit will cost 100.\nJudge and print total cost for user.",
      "metadata": {
        "id": "GFEtHbsghPjO"
      }
    },
    {
      "cell_type": "code",
      "source": "quantity = int(input(\"Enter the quantity: \"))\nunit_cost = 100\ntotal_cost = quantity * unit_cost\n\nif total_cost > 1000:\n    discount = 0.1 * total_cost\n    total_cost -= discount\n\nprint(\"Total cost:\", total_cost)",
      "metadata": {
        "colab": {
          "base_uri": "https://localhost:8080/"
        },
        "id": "VlfoVmVThPjP",
        "outputId": "32bd604e-cd4b-4041-fbd2-54a46be561f9"
      },
      "outputs": [
        {
          "output_type": "stream",
          "name": "stdout",
          "text": [
            "Enter the quantity: 1500\n",
            "Total cost: 135000.0\n"
          ]
        }
      ],
      "execution_count": 17
    },
    {
      "cell_type": "markdown",
      "source": "12) A school has following rules for grading system:\n\na. Below 25 - F\n\nb. 25 to 45 - E\n\nc. 45 to 50 - D\n\nd. 50 to 60 - C\n\ne. 60 to 80 - B\n\nf. Above 80 - A\n\nAsk user to enter marks and print the corresponding grade.",
      "metadata": {
        "id": "HMakFFuFhPjP"
      }
    },
    {
      "cell_type": "code",
      "source": "marks = float(input(\"Enter the marks: \"))\n\nif marks < 25:\n    grade = \"F\"\nelif marks < 45:\n    grade = \"E\"\nelif marks < 50:\n    grade = \"D\"\nelif marks < 60:\n    grade = \"C\"\nelif marks < 80:\n    grade = \"B\"\nelse:\n    grade = \"A\"\n\nprint(\"Grade:\", grade)",
      "metadata": {
        "colab": {
          "base_uri": "https://localhost:8080/"
        },
        "id": "D30PNS2ZhPjQ",
        "outputId": "d756d932-a496-4866-bd8f-a05686943436"
      },
      "outputs": [
        {
          "output_type": "stream",
          "name": "stdout",
          "text": [
            "Enter the marks: 81\n",
            "Grade: A\n"
          ]
        }
      ],
      "execution_count": 18
    },
    {
      "cell_type": "markdown",
      "source": "14)A student will not be allowed to sit in exam if his/her attendence is less than 75%.\n\nTake following input from user\n\nNumber of classes held\n\nNumber of classes attended.\n\nAnd print\n\npercentage of class attended\n\nIs student is allowed to sit in exam or not.\n",
      "metadata": {
        "id": "4sXEo2rshPjQ"
      }
    },
    {
      "cell_type": "code",
      "source": "classes_held = int(input(\"Enter the number of classes held: \"))\nclasses_attended = int(input(\"Enter the number of classes attended: \"))\n\nattendance_percentage = (classes_attended / classes_held) * 100\n\nprint(\"Percentage of classes attended:\", attendance_percentage)\n\nif attendance_percentage >= 75:\n    print(\"The student is allowed to sit in the exam.\")\nelse:\n    print(\"The student is not allowed to sit in the exam.\")",
      "metadata": {
        "colab": {
          "base_uri": "https://localhost:8080/"
        },
        "id": "gIbOXdg_hPjQ",
        "outputId": "1825626e-b832-4b19-cbde-e7a66c090862"
      },
      "outputs": [
        {
          "output_type": "stream",
          "name": "stdout",
          "text": [
            "Enter the number of classes held: 65\n",
            "Enter the number of classes attended: 50\n",
            "Percentage of classes attended: 76.92307692307693\n",
            "The student is allowed to sit in the exam.\n"
          ]
        }
      ],
      "execution_count": 19
    },
    {
      "cell_type": "markdown",
      "source": "15) Modify the above question to allow student to sit if he/she has medical cause. Ask user if he/she has medical cause or not ( 'Y' or 'N' ) and print accordingly.",
      "metadata": {
        "id": "VV13LL59hPjR"
      }
    },
    {
      "cell_type": "code",
      "source": "classes_held = int(input(\"Enter the number of classes held: \"))\nclasses_attended = int(input(\"Enter the number of classes attended: \"))\n\nattendance_percentage = (classes_attended / classes_held) * 100\n\nprint(\"Percentage of classes attended:\", attendance_percentage)\n\nmedical_cause = input(\"Does the student have a medical cause? (Y/N): \")\n\nif medical_cause == 'Y' or medical_cause == 'y':\n    print(\"The student is allowed to sit in the exam due to a medical cause.\")\nelif attendance_percentage >= 75:\n    print(\"The student is allowed to sit in the exam.\")\nelse:\n    print(\"The student is not allowed to sit in the exam.\")",
      "metadata": {
        "colab": {
          "base_uri": "https://localhost:8080/"
        },
        "id": "a_D0a_hghPjR",
        "outputId": "e09a203d-9fb6-4b65-f001-eafcf850dbf9"
      },
      "outputs": [
        {
          "output_type": "stream",
          "name": "stdout",
          "text": [
            "Enter the number of classes held: 60\n",
            "Enter the number of classes attended: 35\n",
            "Percentage of classes attended: 58.333333333333336\n",
            "Does the student have a medical cause? (Y/N): Y\n",
            "The student is allowed to sit in the exam due to a medical cause.\n"
          ]
        }
      ],
      "execution_count": 20
    },
    {
      "cell_type": "markdown",
      "source": "16) Write a program to check if a year is leap year or not.\n\nIf a year is divisible by 4 then it is leap year but if the year is century year like 2000, 1900, 2100 then it must be divisible by 400.",
      "metadata": {
        "id": "8rfpItgxhPjS"
      }
    },
    {
      "cell_type": "code",
      "source": "year = int(input(\"Enter a year: \"))\n\nif (year % 4 == 0 and year % 100 != 0) or year % 400 == 0:\n    print(year, \"is a leap year.\")\nelse:\n    print(year, \"is not a leap year.\")",
      "metadata": {
        "colab": {
          "base_uri": "https://localhost:8080/"
        },
        "id": "9FM8nSbahPjS",
        "outputId": "4949042f-76e0-4313-e92c-b70ef6910009"
      },
      "outputs": [
        {
          "output_type": "stream",
          "name": "stdout",
          "text": [
            "Enter a year: 2024\n",
            "2024 is a leap year.\n"
          ]
        }
      ],
      "execution_count": 22
    },
    {
      "cell_type": "markdown",
      "source": "17) Ask user to enter age, gender ( M or F ), marital status ( Y or N ) and then using following rules print their place of service.\n\nif employee is female, then she will work only in urban areas.\n\nif employee is a male and age is in between 20 to 40 then he may work in anywhere\n\nif employee is male and age is in between 40 t0 60 then he will work in urban areas only.\n\nAnd any other input of age should print \"ERROR\"",
      "metadata": {
        "id": "FUema0VhhPjT"
      }
    },
    {
      "cell_type": "code",
      "source": "age = int(input(\"Enter age: \"))\ngender = input(\"Enter gender (M/F): \")\nmarital_status = input(\"Enter marital status (Y/N): \")\n\nif age < 20 or age > 60:\n    print(\"ERROR\")\nelif gender == 'F' or gender == 'f':\n    print(\"Place of service: Urban areas\")\nelif gender == 'M' or gender == 'm':\n    if age >= 20 and age <= 40:\n        print(\"Place of service: Anywhere\")\n    elif age > 40 and age <= 60:\n        print(\"Place of service: Urban areas\")\nelse:\n    print(\"ERROR\")",
      "metadata": {
        "colab": {
          "base_uri": "https://localhost:8080/"
        },
        "id": "mDwMqt8LhPjT",
        "outputId": "6da62968-53c9-416a-db2a-3154f996b572"
      },
      "outputs": [
        {
          "output_type": "stream",
          "name": "stdout",
          "text": [
            "Enter age: 25\n",
            "Enter gender (M/F): m\n",
            "Enter marital status (Y/N): y\n",
            "Place of service: Anywhere\n"
          ]
        }
      ],
      "execution_count": 23
    },
    {
      "cell_type": "markdown",
      "source": "6) Write a program to calculate the electricity bill (accept number of unit from user) according to the following criteria :\n     Unit                                                     Price  \nuptp 100 units                                             no charge\nNext 200 units                                              Rs 5 per unit\nAfter 200 units                                             Rs 10 per unit\n(For example if input unit is 350 than total bill amount is Rs.3500\n(For example if input unit is 97 than total bill amount is Rs.0\n(For example if input unit is 150 than total bill amount is Rs.750",
      "metadata": {
        "id": "GxdlC_q9hPjU"
      }
    },
    {
      "cell_type": "code",
      "source": "units = int(input(\"Enter the number of units consumed: \"))\n\nif units <= 100:\n    bill_amount = 0\nelif units <= 200:\n    bill_amount = units * 5\nelse:\n    bill_amount = units * 10\nprint(\"Total bill amount: Rs.\", bill_amount)",
      "metadata": {
        "colab": {
          "base_uri": "https://localhost:8080/"
        },
        "id": "Y8sj2SwkqnUG",
        "outputId": "c7fa7b54-d9da-4f7b-b06d-797634f5a542"
      },
      "outputs": [
        {
          "output_type": "stream",
          "name": "stdout",
          "text": [
            "Enter the number of units consumed: 97\n",
            "Total bill amount: Rs. 0\n"
          ]
        }
      ],
      "execution_count": 29
    },
    {
      "cell_type": "markdown",
      "source": "13) Take input of age of 3 people by user and determine oldest and youngest among them.",
      "metadata": {
        "id": "ipQXgDtmhPjU"
      }
    },
    {
      "cell_type": "code",
      "source": "age1 = int(input(\"Enter the age of Person 1: \"))\nage2 = int(input(\"Enter the age of Person 2: \"))\nage3 = int(input(\"Enter the age of Person 3: \"))\n\noldest = max(age1, age2, age3)\nyoungest = min(age1, age2, age3)\n\nprint(\"Oldest person's age:\", oldest)\nprint(\"Youngest person's age:\", youngest)",
      "metadata": {
        "colab": {
          "base_uri": "https://localhost:8080/"
        },
        "id": "RZLX9jCmhPjU",
        "outputId": "62f2fd8f-2007-473c-a0aa-18f846252c68"
      },
      "outputs": [
        {
          "output_type": "stream",
          "name": "stdout",
          "text": [
            "Enter the age of Person 1: 15\n",
            "Enter the age of Person 2: 25\n",
            "Enter the age of Person 3: 35\n",
            "Oldest person's age: 35\n",
            "Youngest person's age: 15\n"
          ]
        }
      ],
      "execution_count": 30
    },
    {
      "cell_type": "code",
      "source": "",
      "metadata": {
        "id": "GIbtoPf1u-4E"
      },
      "outputs": [],
      "execution_count": null
    }
  ]
}