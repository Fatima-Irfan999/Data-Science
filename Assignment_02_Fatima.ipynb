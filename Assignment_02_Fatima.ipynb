{
  "metadata": {
    "kernelspec": {
      "name": "python",
      "display_name": "Python (Pyodide)",
      "language": "python"
    },
    "language_info": {
      "codemirror_mode": {
        "name": "python",
        "version": 3
      },
      "file_extension": ".py",
      "mimetype": "text/x-python",
      "name": "python",
      "nbconvert_exporter": "python",
      "pygments_lexer": "ipython3",
      "version": "3.8"
    },
    "colab": {
      "provenance": []
    }
  },
  "nbformat_minor": 4,
  "nbformat": 4,
  "cells": [
    {
      "cell_type": "markdown",
      "source": "## Task 01:\n\nPrint Your Name with your Father name and Date of birth using suitable escape sequence charactor\n\n",
      "metadata": {
        "id": "bb0O0xtk1v9t"
      }
    },
    {
      "cell_type": "code",
      "source": "name = \"Fatima\"\nfather_name = \"Muhammad Irfan\"\ndob = \"04/07/1999\"",
      "metadata": {
        "id": "U7LLGIkO2Ixa"
      },
      "outputs": [],
      "execution_count": 12
    },
    {
      "cell_type": "code",
      "source": "print(\"My name is \", name, '\\nMy father\\'s name is ', father_name, \"\\nMy date of birth is\", dob)",
      "metadata": {
        "colab": {
          "base_uri": "https://localhost:8080/"
        },
        "id": "TNGtE6EIFUCN",
        "outputId": "4cba5cb9-c4e2-4070-b37c-23b235030c43"
      },
      "outputs": [
        {
          "output_type": "stream",
          "name": "stdout",
          "text": [
            "My name is  Fatima \n",
            "My father's name is  Muhammad Irfan \n",
            "My date of birth is 04/07/1999\n"
          ]
        }
      ],
      "execution_count": 13
    },
    {
      "cell_type": "markdown",
      "source": "# Task 02:\n\nWrite your small bio using variables and print it using print function",
      "metadata": {
        "id": "TU-xwiLV2NgB"
      }
    },
    {
      "cell_type": "code",
      "source": "name = \"Fatima\"\nage = 24\nhometown = \"Karachi, Pakistan\"\neducation = \"MSc in Remote Sensing & GIS\"\nyear = 2023\nprofession = \"Remote Sensing and GIS Analyst\"\nexperience = \"6 years\"\ninterests = \"Data Science, Machine Learning, Artificial Intelligence, Research work, Remote Sensing & GIS\"\narea_of_expertise = \"Research work, Cartography, Forestry, Digitization\"\ncontact_email = \"fatimirfan956@gmail.com\"",
      "metadata": {
        "id": "Dw8w3rwl2wDB"
      },
      "outputs": [],
      "execution_count": 14
    },
    {
      "cell_type": "code",
      "source": "print(f\"\"\"Hey! I am {name}, a {age} years old individual living in {hometown}. I did my {education} in {year}.\nI am a {profession} by profession having {experience} of experience in the relevant field.\nI have expertise {area_of_expertise}.\nMy interests include {interests}.\nFeel free to contact me at {contact_email}\"\"\")",
      "metadata": {
        "id": "DW3cOcbQPy-M",
        "colab": {
          "base_uri": "https://localhost:8080/"
        },
        "outputId": "0135c7f5-8ec7-40f3-afe1-2e4c0ad63c09"
      },
      "outputs": [
        {
          "output_type": "stream",
          "name": "stdout",
          "text": [
            "Hey! I am Fatima, a 24 years old individual living in Karachi, Pakistan. I did my MSc in Remote Sensing & GIS in 2023.\n",
            "I am a Remote Sensing and GIS Analyst by profession having 6 years of experience in the relevant field.\n",
            "I have expertise Research work, Cartography, Forestry, Digitization.\n",
            "My interests include Data Science, Machine Learning, Artificial Intelligence, Research work, Remote Sensing & GIS.\n",
            "Feel free to contact me at fatimirfan956@gmail.com\n"
          ]
        }
      ],
      "execution_count": 15
    },
    {
      "cell_type": "markdown",
      "source": "# Task 03:\n\nWrite a program in which use all the operators we can use in Python",
      "metadata": {
        "id": "F2lcZuDe2ztv"
      }
    },
    {
      "cell_type": "code",
      "source": "a = 4\nb = 8\n\n#Arithmetic Operators\naddition = a + b\nsubtraction = a - b\nmultiplication = a* b\ndivision = a / b\nfloor_division = a // b\nremainder = a % b\nexponentiation = a ** b\n\n#Comparison Operators\ngreater_than = a > b\nless_than = a < b\nequal_to = a == b\nnot_equal_to = a != b\ngreater_than_or_equal_to = a >= b\nless_than_or_equal_to = a <= b",
      "metadata": {
        "id": "lEJhzsXh3e7K"
      },
      "outputs": [],
      "execution_count": 16
    },
    {
      "cell_type": "code",
      "source": "print(\"Arithmetic Operators:\")\nprint(\"Addition: \", addition)\nprint(\"Subtraction: \", subtraction)\nprint(\"Multiplication: \", multiplication)\nprint(\"Division: \", division)\nprint(\"Floor Division: \", floor_division)\nprint(\"Remainder: \", remainder)\nprint(\"Exponentiation: \", exponentiation)\n\nprint(\"\\nComparison Operators:\")\nprint(\"Greater Than: \", greater_than)\nprint(\"Less Than: \", less_than)\nprint(\"Equal To: \", equal_to)\nprint(\"Not Equal To: \", not_equal_to)\nprint(\"Greater Than or Equal To: \", greater_than_or_equal_to)\nprint(\"Less Than or Equal To: \", less_than_or_equal_to)",
      "metadata": {
        "colab": {
          "base_uri": "https://localhost:8080/"
        },
        "id": "p8WLGClNr8n9",
        "outputId": "795f7d8b-a75c-4d29-ff29-7b086ad15e53"
      },
      "outputs": [
        {
          "output_type": "stream",
          "name": "stdout",
          "text": [
            "Arithmetic Operators:\n",
            "Addition:  12\n",
            "Subtraction:  -4\n",
            "Multiplication:  32\n",
            "Division:  0.5\n",
            "Floor Division:  0\n",
            "Remainder:  4\n",
            "Exponentiation:  65536\n",
            "\n",
            "Comparison Operators:\n",
            "Greater Than:  False\n",
            "Less Than:  True\n",
            "Equal To:  False\n",
            "Not Equal To:  True\n",
            "Greater Than or Equal To:  False\n",
            "Less Than or Equal To:  True\n"
          ]
        }
      ],
      "execution_count": 17
    },
    {
      "cell_type": "markdown",
      "source": "# Task 04:\n\n\n1. Mention Marks of English , Islamiat and Maths out of 100 in 3 different variables\n\n2. Mention Variable of Total Marks and assign 300 to it\n\n3. Calculate Percentage",
      "metadata": {
        "id": "i4N14TJU3l7n"
      }
    },
    {
      "cell_type": "code",
      "source": "english_marks = 85\nislamiat_marks = 90\nmaths_marks = 98\n\ntotal_marks = 300\n\npercentage = ((english_marks + islamiat_marks + maths_marks) / total_marks) * 100",
      "metadata": {
        "id": "nxojzvRg5PP4"
      },
      "outputs": [],
      "execution_count": 18
    },
    {
      "cell_type": "code",
      "source": "print(\"English Marks: \", english_marks)\nprint(\"Islamiat Marks: \", islamiat_marks)\nprint(\"Maths Marks: \", maths_marks)\nprint(\"Total Marks: \", total_marks)\nprint(\"Percentage: \", percentage)",
      "metadata": {
        "colab": {
          "base_uri": "https://localhost:8080/"
        },
        "id": "MNW_Tqxytzt_",
        "outputId": "1f15d973-843f-4149-b563-24bf716e5239"
      },
      "outputs": [
        {
          "output_type": "stream",
          "name": "stdout",
          "text": [
            "English Marks:  85\n",
            "Islamiat Marks:  90\n",
            "Maths Marks:  98\n",
            "Total Marks:  300\n",
            "Percentage:  91.0\n"
          ]
        }
      ],
      "execution_count": 19
    },
    {
      "cell_type": "code",
      "source": "",
      "metadata": {
        "id": "Y1SYJgRUub2F"
      },
      "outputs": [],
      "execution_count": null
    }
  ]
}